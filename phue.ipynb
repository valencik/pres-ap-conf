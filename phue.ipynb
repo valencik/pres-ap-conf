{
 "cells": [
  {
   "cell_type": "code",
   "execution_count": null,
   "metadata": {
    "collapsed": false
   },
   "outputs": [],
   "source": [
    "from phue import Bridge\n",
    "\n",
    "b = Bridge('192.168.2.26')\n",
    "\n",
    "# If the app is not registered and the button is not pressed, press the button and call connect() (this only needs to be run a single time)\n",
    "b.connect()\n",
    "\n",
    "# Get the bridge state (This returns the full dictionary that you can explore)\n",
    "b.get_api()"
   ]
  },
  {
   "cell_type": "code",
   "execution_count": null,
   "metadata": {
    "collapsed": false
   },
   "outputs": [],
   "source": [
    "#Turn light 1 on\n",
    "b.set_light(1,'on', True)\n",
    "b.set_light(1, 'bri', 254)"
   ]
  },
  {
   "cell_type": "code",
   "execution_count": null,
   "metadata": {
    "collapsed": false
   },
   "outputs": [],
   "source": [
    "#Turn light 1 off\n",
    "b.set_light(1,'on', False)"
   ]
  },
  {
   "cell_type": "code",
   "execution_count": null,
   "metadata": {
    "collapsed": false
   },
   "outputs": [],
   "source": [
    "#Turn light 1 purple\n",
    "b.set_light(1,'on', True)\n",
    "b.set_light(1, 'hue', 50000)"
   ]
  }
 ],
 "metadata": {
  "kernelspec": {
   "display_name": "Python 3",
   "language": "python",
   "name": "python3"
  },
  "language_info": {
   "codemirror_mode": {
    "name": "ipython",
    "version": 3
   },
   "file_extension": ".py",
   "mimetype": "text/x-python",
   "name": "python",
   "nbconvert_exporter": "python",
   "pygments_lexer": "ipython3",
   "version": "3.4.3"
  }
 },
 "nbformat": 4,
 "nbformat_minor": 0
}
